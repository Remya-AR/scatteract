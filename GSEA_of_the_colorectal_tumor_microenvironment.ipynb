{
  "cells": [
    {
      "cell_type": "markdown",
      "source": [
        "This vignette is part of the workshop: [Hands-on Tour of the Visium Spatial Gene Expression Analysis Journey](https://www.10xgenomics.com/analysis-guides/workshop-visium-hd-analysis)."
      ],
      "metadata": {
        "id": "kiMjxsEcKLOW"
      },
      "id": "kiMjxsEcKLOW"
    },
    {
      "cell_type": "markdown",
      "source": [
        "We will begin by installing the necessary packages.\n",
        "\n",
        "**Option #1 (may take over 20 minutes):** Install packages directly from R repositories."
      ],
      "metadata": {
        "id": "rrtiys7GKimi"
      },
      "id": "rrtiys7GKimi"
    },
    {
      "cell_type": "code",
      "execution_count": 1,
      "id": "4c96fa8a-d8df-45cf-bc2d-5603890647f7",
      "metadata": {
        "id": "4c96fa8a-d8df-45cf-bc2d-5603890647f7",
        "outputId": "a693a955-ece2-4a7b-d3dc-023cb958b104",
        "colab": {
          "base_uri": "https://localhost:8080/",
          "height": 1000
        }
      },
      "outputs": [
        {
          "output_type": "stream",
          "name": "stderr",
          "text": [
            "Installing package into ‘/usr/local/lib/R/site-library’\n",
            "(as ‘lib’ is unspecified)\n",
            "\n",
            "Installing package into ‘/usr/local/lib/R/site-library’\n",
            "(as ‘lib’ is unspecified)\n",
            "\n"
          ]
        },
        {
          "output_type": "display_data",
          "data": {
            "text/html": [
              "<style>\n",
              ".list-inline {list-style: none; margin:0; padding: 0}\n",
              ".list-inline>li {display: inline-block}\n",
              ".list-inline>li:not(:last-child)::after {content: \"\\00b7\"; padding: 0 .5ex}\n",
              "</style>\n",
              "<ol class=list-inline><li>'Reading package lists...'</li><li>'Building dependency tree...'</li><li>'Reading state information...'</li><li>'The following additional packages will be installed:'</li><li><span style=white-space:pre-wrap>'  libgsl27 libgslcblas0'</span></li><li>'Suggested packages:'</li><li><span style=white-space:pre-wrap>'  gsl-ref-psdoc | gsl-doc-pdf | gsl-doc-info | gsl-ref-html'</span></li><li>'The following NEW packages will be installed:'</li><li><span style=white-space:pre-wrap>'  libgsl-dev libgsl27 libgslcblas0'</span></li><li>'0 upgraded, 3 newly installed, 0 to remove and 34 not upgraded.'</li><li>'Need to get 2,351 kB of archives.'</li><li>'After this operation, 10.8 MB of additional disk space will be used.'</li><li>'Get:1 http://archive.ubuntu.com/ubuntu jammy/universe amd64 libgslcblas0 amd64 2.7.1+dfsg-3 [94.4 kB]'</li><li>'Get:2 http://archive.ubuntu.com/ubuntu jammy/universe amd64 libgsl27 amd64 2.7.1+dfsg-3 [1,000 kB]'</li><li>'Get:3 http://archive.ubuntu.com/ubuntu jammy/universe amd64 libgsl-dev amd64 2.7.1+dfsg-3 [1,257 kB]'</li><li>'Fetched 2,351 kB in 0s (15.0 MB/s)'</li><li>'Selecting previously unselected package libgslcblas0:amd64.\\r'</li><li>'(Reading database ... \\r(Reading database ... 5%\\r(Reading database ... 10%\\r(Reading database ... 15%\\r(Reading database ... 20%\\r(Reading database ... 25%\\r(Reading database ... 30%\\r(Reading database ... 35%\\r(Reading database ... 40%\\r(Reading database ... 45%\\r(Reading database ... 50%\\r(Reading database ... 55%\\r(Reading database ... 60%\\r(Reading database ... 65%\\r(Reading database ... 70%\\r(Reading database ... 75%\\r(Reading database ... 80%\\r(Reading database ... 85%\\r(Reading database ... 90%\\r(Reading database ... 95%\\r(Reading database ... 100%\\r(Reading database ... 126102 files and directories currently installed.)\\r'</li><li>'Preparing to unpack .../libgslcblas0_2.7.1+dfsg-3_amd64.deb ...\\r'</li><li>'Unpacking libgslcblas0:amd64 (2.7.1+dfsg-3) ...\\r'</li><li>'Selecting previously unselected package libgsl27:amd64.\\r'</li><li>'Preparing to unpack .../libgsl27_2.7.1+dfsg-3_amd64.deb ...\\r'</li><li>'Unpacking libgsl27:amd64 (2.7.1+dfsg-3) ...\\r'</li><li>'Selecting previously unselected package libgsl-dev.\\r'</li><li>'Preparing to unpack .../libgsl-dev_2.7.1+dfsg-3_amd64.deb ...\\r'</li><li>'Unpacking libgsl-dev (2.7.1+dfsg-3) ...\\r'</li><li>'Setting up libgslcblas0:amd64 (2.7.1+dfsg-3) ...\\r'</li><li>'Setting up libgsl27:amd64 (2.7.1+dfsg-3) ...\\r'</li><li>'Setting up libgsl-dev (2.7.1+dfsg-3) ...\\r'</li><li>'Processing triggers for man-db (2.10.2-1) ...\\r'</li><li>'Processing triggers for libc-bin (2.35-0ubuntu3.8) ...\\r'</li><li>'/sbin/ldconfig.real: /usr/local/lib/libtbbbind.so.3 is not a symbolic link\\r'</li><li>'\\r'</li><li>'/sbin/ldconfig.real: /usr/local/lib/libumf.so.0 is not a symbolic link\\r'</li><li>'\\r'</li><li>'/sbin/ldconfig.real: /usr/local/lib/libur_adapter_level_zero.so.0 is not a symbolic link\\r'</li><li>'\\r'</li><li>'/sbin/ldconfig.real: /usr/local/lib/libtbbmalloc_proxy.so.2 is not a symbolic link\\r'</li><li>'\\r'</li><li>'/sbin/ldconfig.real: /usr/local/lib/libur_loader.so.0 is not a symbolic link\\r'</li><li>'\\r'</li><li>'/sbin/ldconfig.real: /usr/local/lib/libur_adapter_opencl.so.0 is not a symbolic link\\r'</li><li>'\\r'</li><li>'/sbin/ldconfig.real: /usr/local/lib/libtcm_debug.so.1 is not a symbolic link\\r'</li><li>'\\r'</li><li>'/sbin/ldconfig.real: /usr/local/lib/libtbbbind_2_5.so.3 is not a symbolic link\\r'</li><li>'\\r'</li><li>'/sbin/ldconfig.real: /usr/local/lib/libtbbbind_2_0.so.3 is not a symbolic link\\r'</li><li>'\\r'</li><li>'/sbin/ldconfig.real: /usr/local/lib/libhwloc.so.15 is not a symbolic link\\r'</li><li>'\\r'</li><li>'/sbin/ldconfig.real: /usr/local/lib/libtcm.so.1 is not a symbolic link\\r'</li><li>'\\r'</li><li>'/sbin/ldconfig.real: /usr/local/lib/libtbbmalloc.so.2 is not a symbolic link\\r'</li><li>'\\r'</li><li>'/sbin/ldconfig.real: /usr/local/lib/libtbb.so.12 is not a symbolic link\\r'</li><li>'\\r'</li></ol>\n"
            ],
            "text/markdown": "1. 'Reading package lists...'\n2. 'Building dependency tree...'\n3. 'Reading state information...'\n4. 'The following additional packages will be installed:'\n5. <span style=white-space:pre-wrap>'  libgsl27 libgslcblas0'</span>\n6. 'Suggested packages:'\n7. <span style=white-space:pre-wrap>'  gsl-ref-psdoc | gsl-doc-pdf | gsl-doc-info | gsl-ref-html'</span>\n8. 'The following NEW packages will be installed:'\n9. <span style=white-space:pre-wrap>'  libgsl-dev libgsl27 libgslcblas0'</span>\n10. '0 upgraded, 3 newly installed, 0 to remove and 34 not upgraded.'\n11. 'Need to get 2,351 kB of archives.'\n12. 'After this operation, 10.8 MB of additional disk space will be used.'\n13. 'Get:1 http://archive.ubuntu.com/ubuntu jammy/universe amd64 libgslcblas0 amd64 2.7.1+dfsg-3 [94.4 kB]'\n14. 'Get:2 http://archive.ubuntu.com/ubuntu jammy/universe amd64 libgsl27 amd64 2.7.1+dfsg-3 [1,000 kB]'\n15. 'Get:3 http://archive.ubuntu.com/ubuntu jammy/universe amd64 libgsl-dev amd64 2.7.1+dfsg-3 [1,257 kB]'\n16. 'Fetched 2,351 kB in 0s (15.0 MB/s)'\n17. 'Selecting previously unselected package libgslcblas0:amd64.\\r'\n18. '(Reading database ... \\r(Reading database ... 5%\\r(Reading database ... 10%\\r(Reading database ... 15%\\r(Reading database ... 20%\\r(Reading database ... 25%\\r(Reading database ... 30%\\r(Reading database ... 35%\\r(Reading database ... 40%\\r(Reading database ... 45%\\r(Reading database ... 50%\\r(Reading database ... 55%\\r(Reading database ... 60%\\r(Reading database ... 65%\\r(Reading database ... 70%\\r(Reading database ... 75%\\r(Reading database ... 80%\\r(Reading database ... 85%\\r(Reading database ... 90%\\r(Reading database ... 95%\\r(Reading database ... 100%\\r(Reading database ... 126102 files and directories currently installed.)\\r'\n19. 'Preparing to unpack .../libgslcblas0_2.7.1+dfsg-3_amd64.deb ...\\r'\n20. 'Unpacking libgslcblas0:amd64 (2.7.1+dfsg-3) ...\\r'\n21. 'Selecting previously unselected package libgsl27:amd64.\\r'\n22. 'Preparing to unpack .../libgsl27_2.7.1+dfsg-3_amd64.deb ...\\r'\n23. 'Unpacking libgsl27:amd64 (2.7.1+dfsg-3) ...\\r'\n24. 'Selecting previously unselected package libgsl-dev.\\r'\n25. 'Preparing to unpack .../libgsl-dev_2.7.1+dfsg-3_amd64.deb ...\\r'\n26. 'Unpacking libgsl-dev (2.7.1+dfsg-3) ...\\r'\n27. 'Setting up libgslcblas0:amd64 (2.7.1+dfsg-3) ...\\r'\n28. 'Setting up libgsl27:amd64 (2.7.1+dfsg-3) ...\\r'\n29. 'Setting up libgsl-dev (2.7.1+dfsg-3) ...\\r'\n30. 'Processing triggers for man-db (2.10.2-1) ...\\r'\n31. 'Processing triggers for libc-bin (2.35-0ubuntu3.8) ...\\r'\n32. '/sbin/ldconfig.real: /usr/local/lib/libtbbbind.so.3 is not a symbolic link\\r'\n33. '\\r'\n34. '/sbin/ldconfig.real: /usr/local/lib/libumf.so.0 is not a symbolic link\\r'\n35. '\\r'\n36. '/sbin/ldconfig.real: /usr/local/lib/libur_adapter_level_zero.so.0 is not a symbolic link\\r'\n37. '\\r'\n38. '/sbin/ldconfig.real: /usr/local/lib/libtbbmalloc_proxy.so.2 is not a symbolic link\\r'\n39. '\\r'\n40. '/sbin/ldconfig.real: /usr/local/lib/libur_loader.so.0 is not a symbolic link\\r'\n41. '\\r'\n42. '/sbin/ldconfig.real: /usr/local/lib/libur_adapter_opencl.so.0 is not a symbolic link\\r'\n43. '\\r'\n44. '/sbin/ldconfig.real: /usr/local/lib/libtcm_debug.so.1 is not a symbolic link\\r'\n45. '\\r'\n46. '/sbin/ldconfig.real: /usr/local/lib/libtbbbind_2_5.so.3 is not a symbolic link\\r'\n47. '\\r'\n48. '/sbin/ldconfig.real: /usr/local/lib/libtbbbind_2_0.so.3 is not a symbolic link\\r'\n49. '\\r'\n50. '/sbin/ldconfig.real: /usr/local/lib/libhwloc.so.15 is not a symbolic link\\r'\n51. '\\r'\n52. '/sbin/ldconfig.real: /usr/local/lib/libtcm.so.1 is not a symbolic link\\r'\n53. '\\r'\n54. '/sbin/ldconfig.real: /usr/local/lib/libtbbmalloc.so.2 is not a symbolic link\\r'\n55. '\\r'\n56. '/sbin/ldconfig.real: /usr/local/lib/libtbb.so.12 is not a symbolic link\\r'\n57. '\\r'\n\n\n",
            "text/latex": "\\begin{enumerate*}\n\\item 'Reading package lists...'\n\\item 'Building dependency tree...'\n\\item 'Reading state information...'\n\\item 'The following additional packages will be installed:'\n\\item '  libgsl27 libgslcblas0'\n\\item 'Suggested packages:'\n\\item '  gsl-ref-psdoc \\textbar{} gsl-doc-pdf \\textbar{} gsl-doc-info \\textbar{} gsl-ref-html'\n\\item 'The following NEW packages will be installed:'\n\\item '  libgsl-dev libgsl27 libgslcblas0'\n\\item '0 upgraded, 3 newly installed, 0 to remove and 34 not upgraded.'\n\\item 'Need to get 2,351 kB of archives.'\n\\item 'After this operation, 10.8 MB of additional disk space will be used.'\n\\item 'Get:1 http://archive.ubuntu.com/ubuntu jammy/universe amd64 libgslcblas0 amd64 2.7.1+dfsg-3 {[}94.4 kB{]}'\n\\item 'Get:2 http://archive.ubuntu.com/ubuntu jammy/universe amd64 libgsl27 amd64 2.7.1+dfsg-3 {[}1,000 kB{]}'\n\\item 'Get:3 http://archive.ubuntu.com/ubuntu jammy/universe amd64 libgsl-dev amd64 2.7.1+dfsg-3 {[}1,257 kB{]}'\n\\item 'Fetched 2,351 kB in 0s (15.0 MB/s)'\n\\item 'Selecting previously unselected package libgslcblas0:amd64.\\textbackslash{}r'\n\\item '(Reading database ... \\textbackslash{}r(Reading database ... 5\\%\\textbackslash{}r(Reading database ... 10\\%\\textbackslash{}r(Reading database ... 15\\%\\textbackslash{}r(Reading database ... 20\\%\\textbackslash{}r(Reading database ... 25\\%\\textbackslash{}r(Reading database ... 30\\%\\textbackslash{}r(Reading database ... 35\\%\\textbackslash{}r(Reading database ... 40\\%\\textbackslash{}r(Reading database ... 45\\%\\textbackslash{}r(Reading database ... 50\\%\\textbackslash{}r(Reading database ... 55\\%\\textbackslash{}r(Reading database ... 60\\%\\textbackslash{}r(Reading database ... 65\\%\\textbackslash{}r(Reading database ... 70\\%\\textbackslash{}r(Reading database ... 75\\%\\textbackslash{}r(Reading database ... 80\\%\\textbackslash{}r(Reading database ... 85\\%\\textbackslash{}r(Reading database ... 90\\%\\textbackslash{}r(Reading database ... 95\\%\\textbackslash{}r(Reading database ... 100\\%\\textbackslash{}r(Reading database ... 126102 files and directories currently installed.)\\textbackslash{}r'\n\\item 'Preparing to unpack .../libgslcblas0\\_2.7.1+dfsg-3\\_amd64.deb ...\\textbackslash{}r'\n\\item 'Unpacking libgslcblas0:amd64 (2.7.1+dfsg-3) ...\\textbackslash{}r'\n\\item 'Selecting previously unselected package libgsl27:amd64.\\textbackslash{}r'\n\\item 'Preparing to unpack .../libgsl27\\_2.7.1+dfsg-3\\_amd64.deb ...\\textbackslash{}r'\n\\item 'Unpacking libgsl27:amd64 (2.7.1+dfsg-3) ...\\textbackslash{}r'\n\\item 'Selecting previously unselected package libgsl-dev.\\textbackslash{}r'\n\\item 'Preparing to unpack .../libgsl-dev\\_2.7.1+dfsg-3\\_amd64.deb ...\\textbackslash{}r'\n\\item 'Unpacking libgsl-dev (2.7.1+dfsg-3) ...\\textbackslash{}r'\n\\item 'Setting up libgslcblas0:amd64 (2.7.1+dfsg-3) ...\\textbackslash{}r'\n\\item 'Setting up libgsl27:amd64 (2.7.1+dfsg-3) ...\\textbackslash{}r'\n\\item 'Setting up libgsl-dev (2.7.1+dfsg-3) ...\\textbackslash{}r'\n\\item 'Processing triggers for man-db (2.10.2-1) ...\\textbackslash{}r'\n\\item 'Processing triggers for libc-bin (2.35-0ubuntu3.8) ...\\textbackslash{}r'\n\\item '/sbin/ldconfig.real: /usr/local/lib/libtbbbind.so.3 is not a symbolic link\\textbackslash{}r'\n\\item '\\textbackslash{}r'\n\\item '/sbin/ldconfig.real: /usr/local/lib/libumf.so.0 is not a symbolic link\\textbackslash{}r'\n\\item '\\textbackslash{}r'\n\\item '/sbin/ldconfig.real: /usr/local/lib/libur\\_adapter\\_level\\_zero.so.0 is not a symbolic link\\textbackslash{}r'\n\\item '\\textbackslash{}r'\n\\item '/sbin/ldconfig.real: /usr/local/lib/libtbbmalloc\\_proxy.so.2 is not a symbolic link\\textbackslash{}r'\n\\item '\\textbackslash{}r'\n\\item '/sbin/ldconfig.real: /usr/local/lib/libur\\_loader.so.0 is not a symbolic link\\textbackslash{}r'\n\\item '\\textbackslash{}r'\n\\item '/sbin/ldconfig.real: /usr/local/lib/libur\\_adapter\\_opencl.so.0 is not a symbolic link\\textbackslash{}r'\n\\item '\\textbackslash{}r'\n\\item '/sbin/ldconfig.real: /usr/local/lib/libtcm\\_debug.so.1 is not a symbolic link\\textbackslash{}r'\n\\item '\\textbackslash{}r'\n\\item '/sbin/ldconfig.real: /usr/local/lib/libtbbbind\\_2\\_5.so.3 is not a symbolic link\\textbackslash{}r'\n\\item '\\textbackslash{}r'\n\\item '/sbin/ldconfig.real: /usr/local/lib/libtbbbind\\_2\\_0.so.3 is not a symbolic link\\textbackslash{}r'\n\\item '\\textbackslash{}r'\n\\item '/sbin/ldconfig.real: /usr/local/lib/libhwloc.so.15 is not a symbolic link\\textbackslash{}r'\n\\item '\\textbackslash{}r'\n\\item '/sbin/ldconfig.real: /usr/local/lib/libtcm.so.1 is not a symbolic link\\textbackslash{}r'\n\\item '\\textbackslash{}r'\n\\item '/sbin/ldconfig.real: /usr/local/lib/libtbbmalloc.so.2 is not a symbolic link\\textbackslash{}r'\n\\item '\\textbackslash{}r'\n\\item '/sbin/ldconfig.real: /usr/local/lib/libtbb.so.12 is not a symbolic link\\textbackslash{}r'\n\\item '\\textbackslash{}r'\n\\end{enumerate*}\n",
            "text/plain": [
              " [1] \"Reading package lists...\"                                                                                                                                                                                                                                                                                                                                                                                                                                                                                                                                                                                                                                      \n",
              " [2] \"Building dependency tree...\"                                                                                                                                                                                                                                                                                                                                                                                                                                                                                                                                                                                                                                   \n",
              " [3] \"Reading state information...\"                                                                                                                                                                                                                                                                                                                                                                                                                                                                                                                                                                                                                                  \n",
              " [4] \"The following additional packages will be installed:\"                                                                                                                                                                                                                                                                                                                                                                                                                                                                                                                                                                                                          \n",
              " [5] \"  libgsl27 libgslcblas0\"                                                                                                                                                                                                                                                                                                                                                                                                                                                                                                                                                                                                                                       \n",
              " [6] \"Suggested packages:\"                                                                                                                                                                                                                                                                                                                                                                                                                                                                                                                                                                                                                                           \n",
              " [7] \"  gsl-ref-psdoc | gsl-doc-pdf | gsl-doc-info | gsl-ref-html\"                                                                                                                                                                                                                                                                                                                                                                                                                                                                                                                                                                                                   \n",
              " [8] \"The following NEW packages will be installed:\"                                                                                                                                                                                                                                                                                                                                                                                                                                                                                                                                                                                                                 \n",
              " [9] \"  libgsl-dev libgsl27 libgslcblas0\"                                                                                                                                                                                                                                                                                                                                                                                                                                                                                                                                                                                                                            \n",
              "[10] \"0 upgraded, 3 newly installed, 0 to remove and 34 not upgraded.\"                                                                                                                                                                                                                                                                                                                                                                                                                                                                                                                                                                                               \n",
              "[11] \"Need to get 2,351 kB of archives.\"                                                                                                                                                                                                                                                                                                                                                                                                                                                                                                                                                                                                                             \n",
              "[12] \"After this operation, 10.8 MB of additional disk space will be used.\"                                                                                                                                                                                                                                                                                                                                                                                                                                                                                                                                                                                          \n",
              "[13] \"Get:1 http://archive.ubuntu.com/ubuntu jammy/universe amd64 libgslcblas0 amd64 2.7.1+dfsg-3 [94.4 kB]\"                                                                                                                                                                                                                                                                                                                                                                                                                                                                                                                                                         \n",
              "[14] \"Get:2 http://archive.ubuntu.com/ubuntu jammy/universe amd64 libgsl27 amd64 2.7.1+dfsg-3 [1,000 kB]\"                                                                                                                                                                                                                                                                                                                                                                                                                                                                                                                                                            \n",
              "[15] \"Get:3 http://archive.ubuntu.com/ubuntu jammy/universe amd64 libgsl-dev amd64 2.7.1+dfsg-3 [1,257 kB]\"                                                                                                                                                                                                                                                                                                                                                                                                                                                                                                                                                          \n",
              "[16] \"Fetched 2,351 kB in 0s (15.0 MB/s)\"                                                                                                                                                                                                                                                                                                                                                                                                                                                                                                                                                                                                                            \n",
              "[17] \"Selecting previously unselected package libgslcblas0:amd64.\\r\"                                                                                                                                                                                                                                                                                                                                                                                                                                                                                                                                                                                                 \n",
              "[18] \"(Reading database ... \\r(Reading database ... 5%\\r(Reading database ... 10%\\r(Reading database ... 15%\\r(Reading database ... 20%\\r(Reading database ... 25%\\r(Reading database ... 30%\\r(Reading database ... 35%\\r(Reading database ... 40%\\r(Reading database ... 45%\\r(Reading database ... 50%\\r(Reading database ... 55%\\r(Reading database ... 60%\\r(Reading database ... 65%\\r(Reading database ... 70%\\r(Reading database ... 75%\\r(Reading database ... 80%\\r(Reading database ... 85%\\r(Reading database ... 90%\\r(Reading database ... 95%\\r(Reading database ... 100%\\r(Reading database ... 126102 files and directories currently installed.)\\r\"\n",
              "[19] \"Preparing to unpack .../libgslcblas0_2.7.1+dfsg-3_amd64.deb ...\\r\"                                                                                                                                                                                                                                                                                                                                                                                                                                                                                                                                                                                             \n",
              "[20] \"Unpacking libgslcblas0:amd64 (2.7.1+dfsg-3) ...\\r\"                                                                                                                                                                                                                                                                                                                                                                                                                                                                                                                                                                                                             \n",
              "[21] \"Selecting previously unselected package libgsl27:amd64.\\r\"                                                                                                                                                                                                                                                                                                                                                                                                                                                                                                                                                                                                     \n",
              "[22] \"Preparing to unpack .../libgsl27_2.7.1+dfsg-3_amd64.deb ...\\r\"                                                                                                                                                                                                                                                                                                                                                                                                                                                                                                                                                                                                 \n",
              "[23] \"Unpacking libgsl27:amd64 (2.7.1+dfsg-3) ...\\r\"                                                                                                                                                                                                                                                                                                                                                                                                                                                                                                                                                                                                                 \n",
              "[24] \"Selecting previously unselected package libgsl-dev.\\r\"                                                                                                                                                                                                                                                                                                                                                                                                                                                                                                                                                                                                         \n",
              "[25] \"Preparing to unpack .../libgsl-dev_2.7.1+dfsg-3_amd64.deb ...\\r\"                                                                                                                                                                                                                                                                                                                                                                                                                                                                                                                                                                                               \n",
              "[26] \"Unpacking libgsl-dev (2.7.1+dfsg-3) ...\\r\"                                                                                                                                                                                                                                                                                                                                                                                                                                                                                                                                                                                                                     \n",
              "[27] \"Setting up libgslcblas0:amd64 (2.7.1+dfsg-3) ...\\r\"                                                                                                                                                                                                                                                                                                                                                                                                                                                                                                                                                                                                            \n",
              "[28] \"Setting up libgsl27:amd64 (2.7.1+dfsg-3) ...\\r\"                                                                                                                                                                                                                                                                                                                                                                                                                                                                                                                                                                                                                \n",
              "[29] \"Setting up libgsl-dev (2.7.1+dfsg-3) ...\\r\"                                                                                                                                                                                                                                                                                                                                                                                                                                                                                                                                                                                                                    \n",
              "[30] \"Processing triggers for man-db (2.10.2-1) ...\\r\"                                                                                                                                                                                                                                                                                                                                                                                                                                                                                                                                                                                                               \n",
              "[31] \"Processing triggers for libc-bin (2.35-0ubuntu3.8) ...\\r\"                                                                                                                                                                                                                                                                                                                                                                                                                                                                                                                                                                                                      \n",
              "[32] \"/sbin/ldconfig.real: /usr/local/lib/libtbbbind.so.3 is not a symbolic link\\r\"                                                                                                                                                                                                                                                                                                                                                                                                                                                                                                                                                                                  \n",
              "[33] \"\\r\"                                                                                                                                                                                                                                                                                                                                                                                                                                                                                                                                                                                                                                                            \n",
              "[34] \"/sbin/ldconfig.real: /usr/local/lib/libumf.so.0 is not a symbolic link\\r\"                                                                                                                                                                                                                                                                                                                                                                                                                                                                                                                                                                                      \n",
              "[35] \"\\r\"                                                                                                                                                                                                                                                                                                                                                                                                                                                                                                                                                                                                                                                            \n",
              "[36] \"/sbin/ldconfig.real: /usr/local/lib/libur_adapter_level_zero.so.0 is not a symbolic link\\r\"                                                                                                                                                                                                                                                                                                                                                                                                                                                                                                                                                                    \n",
              "[37] \"\\r\"                                                                                                                                                                                                                                                                                                                                                                                                                                                                                                                                                                                                                                                            \n",
              "[38] \"/sbin/ldconfig.real: /usr/local/lib/libtbbmalloc_proxy.so.2 is not a symbolic link\\r\"                                                                                                                                                                                                                                                                                                                                                                                                                                                                                                                                                                          \n",
              "[39] \"\\r\"                                                                                                                                                                                                                                                                                                                                                                                                                                                                                                                                                                                                                                                            \n",
              "[40] \"/sbin/ldconfig.real: /usr/local/lib/libur_loader.so.0 is not a symbolic link\\r\"                                                                                                                                                                                                                                                                                                                                                                                                                                                                                                                                                                                \n",
              "[41] \"\\r\"                                                                                                                                                                                                                                                                                                                                                                                                                                                                                                                                                                                                                                                            \n",
              "[42] \"/sbin/ldconfig.real: /usr/local/lib/libur_adapter_opencl.so.0 is not a symbolic link\\r\"                                                                                                                                                                                                                                                                                                                                                                                                                                                                                                                                                                        \n",
              "[43] \"\\r\"                                                                                                                                                                                                                                                                                                                                                                                                                                                                                                                                                                                                                                                            \n",
              "[44] \"/sbin/ldconfig.real: /usr/local/lib/libtcm_debug.so.1 is not a symbolic link\\r\"                                                                                                                                                                                                                                                                                                                                                                                                                                                                                                                                                                                \n",
              "[45] \"\\r\"                                                                                                                                                                                                                                                                                                                                                                                                                                                                                                                                                                                                                                                            \n",
              "[46] \"/sbin/ldconfig.real: /usr/local/lib/libtbbbind_2_5.so.3 is not a symbolic link\\r\"                                                                                                                                                                                                                                                                                                                                                                                                                                                                                                                                                                              \n",
              "[47] \"\\r\"                                                                                                                                                                                                                                                                                                                                                                                                                                                                                                                                                                                                                                                            \n",
              "[48] \"/sbin/ldconfig.real: /usr/local/lib/libtbbbind_2_0.so.3 is not a symbolic link\\r\"                                                                                                                                                                                                                                                                                                                                                                                                                                                                                                                                                                              \n",
              "[49] \"\\r\"                                                                                                                                                                                                                                                                                                                                                                                                                                                                                                                                                                                                                                                            \n",
              "[50] \"/sbin/ldconfig.real: /usr/local/lib/libhwloc.so.15 is not a symbolic link\\r\"                                                                                                                                                                                                                                                                                                                                                                                                                                                                                                                                                                                   \n",
              "[51] \"\\r\"                                                                                                                                                                                                                                                                                                                                                                                                                                                                                                                                                                                                                                                            \n",
              "[52] \"/sbin/ldconfig.real: /usr/local/lib/libtcm.so.1 is not a symbolic link\\r\"                                                                                                                                                                                                                                                                                                                                                                                                                                                                                                                                                                                      \n",
              "[53] \"\\r\"                                                                                                                                                                                                                                                                                                                                                                                                                                                                                                                                                                                                                                                            \n",
              "[54] \"/sbin/ldconfig.real: /usr/local/lib/libtbbmalloc.so.2 is not a symbolic link\\r\"                                                                                                                                                                                                                                                                                                                                                                                                                                                                                                                                                                                \n",
              "[55] \"\\r\"                                                                                                                                                                                                                                                                                                                                                                                                                                                                                                                                                                                                                                                            \n",
              "[56] \"/sbin/ldconfig.real: /usr/local/lib/libtbb.so.12 is not a symbolic link\\r\"                                                                                                                                                                                                                                                                                                                                                                                                                                                                                                                                                                                     \n",
              "[57] \"\\r\"                                                                                                                                                                                                                                                                                                                                                                                                                                                                                                                                                                                                                                                            "
            ]
          },
          "metadata": {}
        },
        {
          "output_type": "stream",
          "name": "stderr",
          "text": [
            "Downloading GitHub repo paulponcet/lplyr@HEAD\n",
            "\n"
          ]
        },
        {
          "output_type": "stream",
          "name": "stdout",
          "text": [
            "lobstr   (NA -> 1.1.2 ) [CRAN]\n",
            "pryr     (NA -> 0.1.6 ) [CRAN]\n",
            "plyr     (NA -> 1.8.9 ) [CRAN]\n",
            "kimisc   (NA -> 1.0.0 ) [CRAN]\n",
            "lazyeval (NA -> 0.2.2 ) [CRAN]\n",
            "bazar    (NA -> 1.0.11) [CRAN]\n"
          ]
        },
        {
          "output_type": "stream",
          "name": "stderr",
          "text": [
            "Installing 6 packages: lobstr, pryr, plyr, kimisc, lazyeval, bazar\n",
            "\n",
            "Installing packages into ‘/usr/local/lib/R/site-library’\n",
            "(as ‘lib’ is unspecified)\n",
            "\n",
            "Warning message in i.p(...):\n",
            "“installation of package ‘pryr’ had non-zero exit status”\n",
            "Warning message in i.p(...):\n",
            "“installation of package ‘kimisc’ had non-zero exit status”\n",
            "Warning message in i.p(...):\n",
            "“installation of package ‘bazar’ had non-zero exit status”\n"
          ]
        },
        {
          "output_type": "stream",
          "name": "stdout",
          "text": [
            "\u001b[36m──\u001b[39m \u001b[36mR CMD build\u001b[39m \u001b[36m─────────────────────────────────────────────────────────────────\u001b[39m\n",
            "* checking for file ‘/tmp/Rtmp3UQM4I/remotesbb150fccf6/paulponcet-lplyr-51a576b/DESCRIPTION’ ... OK\n",
            "* preparing ‘lplyr’:\n",
            "* checking DESCRIPTION meta-information ... OK\n",
            "* checking for LF line-endings in source and make files and shell scripts\n",
            "* checking for empty or unneeded directories\n",
            "Omitted ‘LazyData’ from DESCRIPTION\n",
            "* building ‘lplyr_0.1.12.tar.gz’\n",
            "\n"
          ]
        },
        {
          "output_type": "stream",
          "name": "stderr",
          "text": [
            "Installing package into ‘/usr/local/lib/R/site-library’\n",
            "(as ‘lib’ is unspecified)\n",
            "\n",
            "Warning message in i.p(...):\n",
            "“installation of package ‘/tmp/Rtmp3UQM4I/filebb3f24f6d2/lplyr_0.1.12.tar.gz’ had non-zero exit status”\n",
            "Installing package into ‘/usr/local/lib/R/site-library’\n",
            "(as ‘lib’ is unspecified)\n",
            "\n",
            "'getOption(\"repos\")' replaces Bioconductor standard repositories, see\n",
            "'help(\"repositories\", package = \"BiocManager\")' for details.\n",
            "Replacement repositories:\n",
            "    CRAN: https://cran.rstudio.com\n",
            "\n",
            "Bioconductor version 3.21 (BiocManager 1.30.25), R 4.5.0 (2025-04-11)\n",
            "\n",
            "Installing package(s) 'BiocVersion'\n",
            "\n",
            "Old packages: 'data.table', 'zip'\n",
            "\n",
            "'getOption(\"repos\")' replaces Bioconductor standard repositories, see\n",
            "'help(\"repositories\", package = \"BiocManager\")' for details.\n",
            "Replacement repositories:\n",
            "    CRAN: https://cran.rstudio.com\n",
            "\n",
            "Bioconductor version 3.21 (BiocManager 1.30.25), R 4.5.0 (2025-04-11)\n",
            "\n",
            "Installing package(s) 'clusterProfiler'\n",
            "\n",
            "also installing the dependencies ‘UCSC.utils’, ‘GenomeInfoDbData’, ‘formatR’, ‘XVector’, ‘GenomeInfoDb’, ‘lambda.r’, ‘futile.options’, ‘gridGraphics’, ‘tweenr’, ‘polyclip’, ‘RcppEigen’, ‘plogr’, ‘png’, ‘Biostrings’, ‘futile.logger’, ‘snow’, ‘BH’, ‘cowplot’, ‘fastmatch’, ‘ggplotify’, ‘patchwork’, ‘ggforce’, ‘ape’, ‘tidytree’, ‘treeio’, ‘R.oo’, ‘R.methodsS3’, ‘BiocGenerics’, ‘Biobase’, ‘IRanges’, ‘RSQLite’, ‘S4Vectors’, ‘KEGGREST’, ‘BiocParallel’, ‘fgsea’, ‘reshape2’, ‘aplot’, ‘ggfun’, ‘ggnewscale’, ‘ggrepel’, ‘ggtangle’, ‘scatterpie’, ‘ggtree’, ‘R.utils’, ‘AnnotationDbi’, ‘DOSE’, ‘enrichplot’, ‘GO.db’, ‘GOSemSim’, ‘gson’, ‘igraph’, ‘qvalue’, ‘yulab.utils’\n",
            "\n",
            "\n",
            "'getOption(\"repos\")' replaces Bioconductor standard repositories, see\n",
            "'help(\"repositories\", package = \"BiocManager\")' for details.\n",
            "Replacement repositories:\n",
            "    CRAN: https://cran.rstudio.com\n",
            "\n",
            "Bioconductor version 3.21 (BiocManager 1.30.25), R 4.5.0 (2025-04-11)\n",
            "\n",
            "Warning message:\n",
            "“package(s) not installed when version(s) same as or greater than current; use\n",
            "  `force = TRUE` to re-install: 'enrichplot'”\n",
            "'getOption(\"repos\")' replaces Bioconductor standard repositories, see\n",
            "'help(\"repositories\", package = \"BiocManager\")' for details.\n",
            "Replacement repositories:\n",
            "    CRAN: https://cran.rstudio.com\n",
            "\n",
            "Bioconductor version 3.21 (BiocManager 1.30.25), R 4.5.0 (2025-04-11)\n",
            "\n",
            "Warning message:\n",
            "“package(s) not installed when version(s) same as or greater than current; use\n",
            "  `force = TRUE` to re-install: 'ggplot2'”\n",
            "'getOption(\"repos\")' replaces Bioconductor standard repositories, see\n",
            "'help(\"repositories\", package = \"BiocManager\")' for details.\n",
            "Replacement repositories:\n",
            "    CRAN: https://cran.rstudio.com\n",
            "\n",
            "Bioconductor version 3.21 (BiocManager 1.30.25), R 4.5.0 (2025-04-11)\n",
            "\n",
            "Installing package(s) 'msigdbr'\n",
            "\n",
            "also installing the dependencies ‘assertthat’, ‘babelgene’\n",
            "\n",
            "\n",
            "'getOption(\"repos\")' replaces Bioconductor standard repositories, see\n",
            "'help(\"repositories\", package = \"BiocManager\")' for details.\n",
            "Replacement repositories:\n",
            "    CRAN: https://cran.rstudio.com\n",
            "\n",
            "Bioconductor version 3.21 (BiocManager 1.30.25), R 4.5.0 (2025-04-11)\n",
            "\n",
            "Warning message:\n",
            "“package(s) not installed when version(s) same as or greater than current; use\n",
            "  `force = TRUE` to re-install: 'dplyr'”\n",
            "'getOption(\"repos\")' replaces Bioconductor standard repositories, see\n",
            "'help(\"repositories\", package = \"BiocManager\")' for details.\n",
            "Replacement repositories:\n",
            "    CRAN: https://cran.rstudio.com\n",
            "\n",
            "Bioconductor version 3.21 (BiocManager 1.30.25), R 4.5.0 (2025-04-11)\n",
            "\n",
            "Warning message:\n",
            "“package(s) not installed when version(s) same as or greater than current; use\n",
            "  `force = TRUE` to re-install: 'DOSE'”\n",
            "'getOption(\"repos\")' replaces Bioconductor standard repositories, see\n",
            "'help(\"repositories\", package = \"BiocManager\")' for details.\n",
            "Replacement repositories:\n",
            "    CRAN: https://cran.rstudio.com\n",
            "\n",
            "Bioconductor version 3.21 (BiocManager 1.30.25), R 4.5.0 (2025-04-11)\n",
            "\n",
            "Warning message:\n",
            "“package(s) not installed when version(s) same as or greater than current; use\n",
            "  `force = TRUE` to re-install: 'forcats'”\n",
            "'getOption(\"repos\")' replaces Bioconductor standard repositories, see\n",
            "'help(\"repositories\", package = \"BiocManager\")' for details.\n",
            "Replacement repositories:\n",
            "    CRAN: https://cran.rstudio.com\n",
            "\n",
            "Bioconductor version 3.21 (BiocManager 1.30.25), R 4.5.0 (2025-04-11)\n",
            "\n",
            "Warning message:\n",
            "“package(s) not installed when version(s) same as or greater than current; use\n",
            "  `force = TRUE` to re-install: 'AnnotationDbi'”\n",
            "'getOption(\"repos\")' replaces Bioconductor standard repositories, see\n",
            "'help(\"repositories\", package = \"BiocManager\")' for details.\n",
            "Replacement repositories:\n",
            "    CRAN: https://cran.rstudio.com\n",
            "\n",
            "Bioconductor version 3.21 (BiocManager 1.30.25), R 4.5.0 (2025-04-11)\n",
            "\n",
            "Installing package(s) 'org.Hs.eg.db'\n",
            "\n",
            "Installing package into ‘/usr/local/lib/R/site-library’\n",
            "(as ‘lib’ is unspecified)\n",
            "\n"
          ]
        }
      ],
      "source": [
        "install.packages(\"remotes\")\n",
        "install.packages(\"devtools\")\n",
        "system(\"apt install libgsl-dev\", intern=TRUE)\n",
        "devtools::install_github(\"paulponcet/lplyr\")\n",
        "\n",
        "if (!requireNamespace(\"BiocManager\", quietly = TRUE))\n",
        "    install.packages(\"BiocManager\")\n",
        "BiocManager::install(version = '3.21',ask = FALSE)\n",
        "\n",
        "BiocManager::install(\"clusterProfiler\")\n",
        "BiocManager::install(\"enrichplot\")\n",
        "BiocManager::install(\"ggplot2\")\n",
        "BiocManager::install(\"msigdbr\")\n",
        "BiocManager::install(\"dplyr\")\n",
        "BiocManager::install(\"DOSE\")\n",
        "BiocManager::install(\"forcats\")\n",
        "BiocManager::install(\"AnnotationDbi\")\n",
        "BiocManager::install(\"org.Hs.eg.db\")\n",
        "install.packages(\"msigdbdf\", repos = \"https://igordot.r-universe.dev\")"
      ]
    },
    {
      "cell_type": "markdown",
      "source": [
        "**Option #2 (recommended for in-person workshop):** Install packages by directly downloading pre-installed packages from AWS s3 bucket"
      ],
      "metadata": {
        "id": "TAygCVDINvwU"
      },
      "id": "TAygCVDINvwU"
    },
    {
      "cell_type": "code",
      "source": [
        "# Download the pre-installed R packages:\n",
        "download.file(\"https://cf.10xgenomics.com/supp/spatial-exp/analysis-workshop/R_packages.tar.gz\", \"R_packages.tar.gz\")\n",
        "\n",
        "\n",
        "# move all pre-installed R packages to default R folder path\n",
        "system(\"tar -xzvf /content/R_packages.tar.gz\")\n",
        "system(paste0(\"mv /content/R_packages/* \", .libPaths()[1]))"
      ],
      "metadata": {
        "id": "qJFmIJPoN0ai"
      },
      "id": "qJFmIJPoN0ai",
      "execution_count": null,
      "outputs": []
    },
    {
      "cell_type": "markdown",
      "source": [
        "Next, load these required packages into the environment."
      ],
      "metadata": {
        "id": "R8Aq5P_LVohF"
      },
      "id": "R8Aq5P_LVohF"
    },
    {
      "cell_type": "code",
      "execution_count": null,
      "id": "c5eb4dd2-975d-42a6-92a2-7ec0be9cc244",
      "metadata": {
        "id": "c5eb4dd2-975d-42a6-92a2-7ec0be9cc244"
      },
      "outputs": [],
      "source": [
        "library(clusterProfiler)\n",
        "library(enrichplot)\n",
        "library(ggplot2)\n",
        "library(msigdbr)\n",
        "library(dplyr)\n",
        "library(lplyr)\n",
        "library(DOSE)\n",
        "library(forcats)\n",
        "library(AnnotationDbi)\n",
        "library(org.Hs.eg.db)\n",
        "library(msigdbdf)"
      ]
    },
    {
      "cell_type": "markdown",
      "source": [
        "Read the in CSV file containing gene expression information and take a look at the dataframe"
      ],
      "metadata": {
        "id": "o_AAXT23Vtv4"
      },
      "id": "o_AAXT23Vtv4"
    },
    {
      "cell_type": "code",
      "execution_count": null,
      "id": "bcb25e77-3b03-47f8-9acf-d6b3ab3ffb06",
      "metadata": {
        "id": "bcb25e77-3b03-47f8-9acf-d6b3ab3ffb06"
      },
      "outputs": [],
      "source": [
        "download.file(\"https://raw.githubusercontent.com/10XGenomics/analysis_guides/main/Visium_HD_GSEA/ROI_Features.csv\", \"ROI_Features.csv\")\n",
        "df <- read.csv(\"ROI_Features.csv\", header = TRUE)\n",
        "head(df)"
      ]
    },
    {
      "cell_type": "markdown",
      "source": [
        "How many genes are in our list?"
      ],
      "metadata": {
        "id": "OdgUcuSiWAt9"
      },
      "id": "OdgUcuSiWAt9"
    },
    {
      "cell_type": "code",
      "source": [
        "nrow(df)"
      ],
      "metadata": {
        "id": "b0Y7rTiNWGR3"
      },
      "id": "b0Y7rTiNWGR3",
      "execution_count": null,
      "outputs": []
    },
    {
      "cell_type": "markdown",
      "source": [
        "GSEA requires Entrez IDs as input. These are unique integer identifiers for genes from NCBI. We will use AnnotationDbi to find the IDs for each gene symbol in our list and take a look at the top of the data frame to see what it looks like."
      ],
      "metadata": {
        "id": "eykUrzsDVzsP"
      },
      "id": "eykUrzsDVzsP"
    },
    {
      "cell_type": "code",
      "execution_count": null,
      "id": "29f6057b-892c-4137-92d7-c0f4919a21ba",
      "metadata": {
        "id": "29f6057b-892c-4137-92d7-c0f4919a21ba"
      },
      "outputs": [],
      "source": [
        "entrez_data <- AnnotationDbi::select(org.Hs.eg.db, keys = df$SYMBOL,columns = c(\"SYMBOL\", \"ENTREZID\"),keytype = \"SYMBOL\")\n",
        "head(entrez_data)"
      ]
    },
    {
      "cell_type": "markdown",
      "source": [
        "Not every gene symbol has an associated Entrez ID. We will need to remove genes that do not have an Entrez ID (\"NA\") from our input list."
      ],
      "metadata": {
        "id": "9SUMen_8V3UP"
      },
      "id": "9SUMen_8V3UP"
    },
    {
      "cell_type": "code",
      "execution_count": null,
      "id": "34f73b8f-7127-4bda-b1c3-ab096e8187dd",
      "metadata": {
        "id": "34f73b8f-7127-4bda-b1c3-ab096e8187dd"
      },
      "outputs": [],
      "source": [
        "anno_result <- entrez_data %>%\n",
        "  filter(!is.na(ENTREZID)) %>%\n",
        "  inner_join(df, by = \"SYMBOL\",relationship = \"many-to-many\")\n",
        "\n",
        "anno_result_unique <- anno_result %>%\n",
        "  group_by(ENTREZID) %>%\n",
        "  summarize(Log2FC = mean(Log2FC))\n",
        "\n",
        "head(anno_result_unique)"
      ]
    },
    {
      "cell_type": "markdown",
      "source": [
        "How many genes remain after filtering NAs?"
      ],
      "metadata": {
        "id": "pTSbdQA-WirZ"
      },
      "id": "pTSbdQA-WirZ"
    },
    {
      "cell_type": "code",
      "source": [
        "nrow(anno_result_unique)"
      ],
      "metadata": {
        "id": "jITbmxUtWpXq"
      },
      "id": "jITbmxUtWpXq",
      "execution_count": null,
      "outputs": []
    },
    {
      "cell_type": "markdown",
      "source": [
        "The starting gene number was 18,072. So, we removed 437 or ~2% of our gene list due to NAs. This is not a large proportion of our gene list and so we will proceed assuming the list is still representative of our sample.\n",
        "\n",
        "Next, we will turn this data frame into a named vector that has the Entrez ID and associated Log2FC information and sort it largest Log2FC to smallest."
      ],
      "metadata": {
        "id": "73ebQ9gGWsBs"
      },
      "id": "73ebQ9gGWsBs"
    },
    {
      "cell_type": "code",
      "execution_count": null,
      "id": "f117ad53-2f29-4a10-af56-3f93d4fe4799",
      "metadata": {
        "id": "f117ad53-2f29-4a10-af56-3f93d4fe4799"
      },
      "outputs": [],
      "source": [
        "geneList <- with(anno_result_unique, setNames(Log2FC, ENTREZID))\n",
        "geneList <- sort(geneList, decreasing = TRUE)"
      ]
    },
    {
      "cell_type": "markdown",
      "source": [
        "Next, we need to prepare our reference gene sets that we will use for analysis. There are a number of databases available to use. We chose to use Cancer Gene Networks from the Computational Gene Sets. We can access the gene sets in this database with the msigdbr package from MSigDB. To learn more about the gene sets available through this resource, go to this web page: https://www.gsea-msigdb.org/gsea/msigdb/human/collections.jsp\n",
        "\n",
        "We find there is a database of computational gene sets defined by expression neighborhoods centered around cancer-associated genes. This database is relevant to our data, so we will use this one."
      ],
      "metadata": {
        "id": "OV_XbA9kXWGh"
      },
      "id": "OV_XbA9kXWGh"
    },
    {
      "cell_type": "code",
      "execution_count": null,
      "id": "238af2d3-4b2b-4cef-9ca2-285ee06179b8",
      "metadata": {
        "id": "238af2d3-4b2b-4cef-9ca2-285ee06179b8"
      },
      "outputs": [],
      "source": [
        "c4_t2g <- msigdbr(species = \"Homo sapiens\", category = \"C4\", subcollection = \"CGN\") %>%\n",
        "  dplyr::select(gs_name, entrez_gene)\n",
        "head(c4_t2g)"
      ]
    },
    {
      "cell_type": "markdown",
      "source": [
        "Now that we have our ranked gene list and gene set reference inputs, we can run GSEA."
      ],
      "metadata": {
        "id": "NNu72DrhXl2a"
      },
      "id": "NNu72DrhXl2a"
    },
    {
      "cell_type": "code",
      "execution_count": null,
      "id": "ec7b98ee-f31d-49f9-8e8b-ed521e014928",
      "metadata": {
        "id": "ec7b98ee-f31d-49f9-8e8b-ed521e014928"
      },
      "outputs": [],
      "source": [
        "c4 <- GSEA(geneList, TERM2GENE = c4_t2g)\n",
        "c4"
      ]
    },
    {
      "cell_type": "markdown",
      "source": [
        "The gene information is stored as Entrez ID, so we need to add the gene symbols into the c4 object to be able to interpret the results better. We will also put our results into a dataframe so they are easier to navigate."
      ],
      "metadata": {
        "id": "crOga1hPXs5m"
      },
      "id": "crOga1hPXs5m"
    },
    {
      "cell_type": "code",
      "execution_count": null,
      "id": "5602a474-a7ff-4f5d-8b5e-3b42d6717810",
      "metadata": {
        "id": "5602a474-a7ff-4f5d-8b5e-3b42d6717810"
      },
      "outputs": [],
      "source": [
        "c4 <- setReadable(c4, 'org.Hs.eg.db', 'ENTREZID')\n",
        "c4_df <- c4@result"
      ]
    },
    {
      "cell_type": "markdown",
      "source": [
        "Our analysis is complete and stored in an object we called “c4”. There were ~170-180 enriched terms found in our data. Results may vary slightly due to random seeding.\n",
        "\n",
        "We can use the object storing the results to generate some plots of our results. First, we will take a look at the overall summary results. We can visualize the top 10 gene sets that were up-regulated (activated in microenvironment), meaning these gene sets were enriched at the top of our list, where up-regulated genes were located. And we will also visualize the top 10 gene sets that were down-regulated (suppressed in microenvironment), meaning these gene sets were enriched at the bottom of our list, where down-regulated genes were located."
      ],
      "metadata": {
        "id": "e5uIDiG5X0EI"
      },
      "id": "e5uIDiG5X0EI"
    },
    {
      "cell_type": "code",
      "execution_count": null,
      "id": "bfa01284-d7f0-4e68-9617-eede3deb9bb3",
      "metadata": {
        "id": "bfa01284-d7f0-4e68-9617-eede3deb9bb3"
      },
      "outputs": [],
      "source": [
        "#set plot size\n",
        "options(repr.plot.width=10, repr.plot.height=6)\n",
        "\n",
        "#sort data and assign to \"activated\" or \"suppressed\" groups based on NES\n",
        "sorted_c4<- c4@result[order(c4@result$NES, decreasing = F),]\n",
        "sorted_c4$color<-ifelse(sorted_c4$NES<0, \"Enriched in tumor\", \"Enriched in TME\")\n",
        "\n",
        "#plot results\n",
        "sorted_c4 %>%\n",
        "  dplyr::group_by(color) %>%\n",
        "  dplyr::arrange(desc(abs(NES))) %>%\n",
        "  slice_head(n = 10) %>%\n",
        "  ggplot(aes(x = NES, y = reorder(Description, NES), fill = color)) +\n",
        "  geom_bar(stat = \"identity\") +\n",
        "  geom_vline(xintercept = 0) +\n",
        "  labs(y = \"Description\") +\n",
        "  theme_classic() +\n",
        "  scale_fill_manual(values=c(\"#ffa557\", \"#4296f5\")) +\n",
        "  theme(legend.position = \"right\")\n",
        "\n",
        "#save a publicaiton-quality version of the plot\n",
        "ggsave(\"go_barplot.pdf\",\n",
        "        dpi = 600,\n",
        "        width = 30, height = 15, unit = \"cm\")"
      ]
    },
    {
      "cell_type": "markdown",
      "source": [
        "Next, we can select one of these gene sets to explore more in-depth.\n",
        "\n",
        "\n",
        "The database we are using organizes the gene pathways into sets of genes centered around known cancer-related genes. We will need to make use of the GSEA website to understand what each gene set is.\n",
        "\n",
        "For example, looking into one of the modules enriched in the microenvironment region, [GNF2_PECAM1](https://www.gsea-msigdb.org/gsea/msigdb/human/geneset/GNF2_PECAM1.html), we can learn more about it. First, we can take a look at the full list of genes in this gene set.\n",
        "\n",
        "Based on the literature, we may find promising cancer treatment targets by looking at the genes in this gene set. We can generate a GSEA plot and a cnet plot for this module to evaluate the full set of genes in our data:"
      ],
      "metadata": {
        "id": "cUVHHiLiaYG3"
      },
      "id": "cUVHHiLiaYG3"
    },
    {
      "cell_type": "code",
      "execution_count": null,
      "id": "24ef2027-56ff-4d57-ada5-9f208823fb2c",
      "metadata": {
        "id": "24ef2027-56ff-4d57-ada5-9f208823fb2c"
      },
      "outputs": [],
      "source": [
        "#re-set plot size\n",
        "options(repr.plot.width=8, repr.plot.height=6)\n",
        "\n",
        "#gsea plot\n",
        "gseaplot(c4, by = \"all\", title = \"PECAM1 Network\", geneSetID = \"GNF2_PECAM1\")"
      ]
    },
    {
      "cell_type": "markdown",
      "source": [
        "And pull out the NES and adjusted p-value associated with this enriched set."
      ],
      "metadata": {
        "id": "eT3cILr0a9Un"
      },
      "id": "eT3cILr0a9Un"
    },
    {
      "cell_type": "code",
      "source": [
        "c4_df[\"GNF2_PECAM1\",]"
      ],
      "metadata": {
        "id": "5Y4Dce_-bBKB"
      },
      "id": "5Y4Dce_-bBKB",
      "execution_count": null,
      "outputs": []
    },
    {
      "cell_type": "markdown",
      "source": [
        "Of the 56 genes in this PECAM1 Gene Set, 33 were detected in our experiment. We can visualize these genes in the cnet plot below:\n"
      ],
      "metadata": {
        "id": "PIqQnq_ycJ-6"
      },
      "id": "PIqQnq_ycJ-6"
    },
    {
      "cell_type": "code",
      "source": [
        "cnetplot(c4, categorySize=\"pvalue\", showCategory = c(\"GNF2_PECAM1\"))"
      ],
      "metadata": {
        "id": "oiL1Ih0ucPN4"
      },
      "id": "oiL1Ih0ucPN4",
      "execution_count": null,
      "outputs": []
    },
    {
      "cell_type": "markdown",
      "source": [
        "Platelet endothelial cell adhesion molecule (PECAM-1) is a cell-cell adhesion protein found on endothelial cells, platelets, macrophages and Kupffer cells, granulocytes, lymphocytes (T cells, B cells, and NK cells), megakaryocytes, and osteoclasts.Going to the literature, this gene has been studied in the cancer field. Specifically, [one study](https://doi.org/10.1073/pnas.1004654107) found that PECAM-1 in the tumor microenvironment drives advanced metastatic progression of tumor cells. [Another](https://doi.org/10.1023/A:1009092107382) found that an antibody against murine PECAM-1 inhibits tumor angiogenesis in mice.\n",
        "\n",
        "We may find promising cancer treatment targets by looking at the genes in this gene set. The PECAM1 neighborhood identified with GSEA may represent a network of genes that are involved in regulation of the the tumor microenvironment to make the area more susceptible to tumor invasion. These genes may be worth investigating in future studies and specifically targeting in future cancer treatment development. The last thing we will do is go back to Loupe Browser to visualize the expression of these genes in our tissue."
      ],
      "metadata": {
        "id": "qwHysLNacT0b"
      },
      "id": "qwHysLNacT0b"
    },
    {
      "cell_type": "code",
      "execution_count": null,
      "id": "47d9a45e-d2db-493b-982c-970596330fff",
      "metadata": {
        "id": "47d9a45e-d2db-493b-982c-970596330fff"
      },
      "outputs": [],
      "source": [
        "sessionInfo()"
      ]
    }
  ],
  "metadata": {
    "kernelspec": {
      "display_name": "R",
      "language": "R",
      "name": "ir"
    },
    "language_info": {
      "codemirror_mode": "r",
      "file_extension": ".r",
      "mimetype": "text/x-r-source",
      "name": "R",
      "pygments_lexer": "r",
      "version": "4.3.1"
    },
    "colab": {
      "provenance": []
    }
  },
  "nbformat": 4,
  "nbformat_minor": 5
}